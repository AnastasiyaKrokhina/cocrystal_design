{
  "nbformat": 4,
  "nbformat_minor": 0,
  "metadata": {
    "colab": {
      "name": "5.Ratios_Prediction.ipynb",
      "provenance": [],
      "collapsed_sections": []
    },
    "kernelspec": {
      "name": "python3",
      "display_name": "Python 3"
    },
    "accelerator": "GPU"
  },
  "cells": [
    {
      "cell_type": "markdown",
      "metadata": {
        "id": "QCFyHYJiKy8A",
        "colab_type": "text"
      },
      "source": [
        "The script for the ratios prediction is given below"
      ]
    },
    {
      "cell_type": "code",
      "metadata": {
        "id": "LfR2HglDKywg",
        "colab_type": "code",
        "colab": {}
      },
      "source": [
        "# Import the basic libraries\n",
        "from sklearn import datasets, metrics\n",
        "import pandas as pd\n",
        "import numpy as np\n",
        "import matplotlib.pyplot as plt \n",
        "from sklearn.utils import shuffle\n",
        "import sys\n",
        "from sklearn.metrics import classification_report, confusion_matrix\n"
      ],
      "execution_count": 1,
      "outputs": []
    },
    {
      "cell_type": "code",
      "metadata": {
        "id": "isTHEzX51buy",
        "colab_type": "code",
        "colab": {
          "base_uri": "https://localhost:8080/",
          "height": 126
        },
        "outputId": "96cfe09e-9cbe-4b4f-8bb9-8afdc9849b66"
      },
      "source": [
        "from google.colab import drive\n",
        "drive.mount('/content/drive')"
      ],
      "execution_count": 2,
      "outputs": [
        {
          "output_type": "stream",
          "text": [
            "Go to this URL in a browser: https://accounts.google.com/o/oauth2/auth?client_id=947318989803-6bn6qk8qdgf4n4g3pfee6491hc0brc4i.apps.googleusercontent.com&redirect_uri=urn%3aietf%3awg%3aoauth%3a2.0%3aoob&response_type=code&scope=email%20https%3a%2f%2fwww.googleapis.com%2fauth%2fdocs.test%20https%3a%2f%2fwww.googleapis.com%2fauth%2fdrive%20https%3a%2f%2fwww.googleapis.com%2fauth%2fdrive.photos.readonly%20https%3a%2f%2fwww.googleapis.com%2fauth%2fpeopleapi.readonly\n",
            "\n",
            "Enter your authorization code:\n",
            "··········\n",
            "Mounted at /content/drive\n"
          ],
          "name": "stdout"
        }
      ]
    },
    {
      "cell_type": "code",
      "metadata": {
        "id": "QWh1sS7qvMe3",
        "colab_type": "code",
        "colab": {}
      },
      "source": [
        "# Set up the path for importing the python codes need\n",
        "sys.path.extend(['/content/drive/My Drive/cocrystal_design/models',\n",
        "                 '/content/drive/My Drive/cocrystal_design/notebooks/python_codes' ])"
      ],
      "execution_count": 3,
      "outputs": []
    },
    {
      "cell_type": "code",
      "metadata": {
        "id": "-TiIPEhI2D9y",
        "colab_type": "code",
        "colab": {
          "base_uri": "https://localhost:8080/",
          "height": 70
        },
        "outputId": "e2e8bf7a-1cb6-465a-da8c-80caf904715f"
      },
      "source": [
        "# Import the neural network architectures and libraries\n",
        "%cd /content/drive/My Drive/cocrystal_design/models/Deep-SVDD-PyTorch\n",
        "%cd src/set_transformer\n",
        "import torch\n",
        "import torch.nn as nn\n",
        "from torch.utils.data import DataLoader, Dataset, Subset\n",
        "import torch.nn.functional as F\n",
        "from modules import SAB, PMA, ISAB\n",
        "import tqdm\n",
        "#torch.cuda.empty_cache()\n",
        "#torch.cuda.is_available() \n",
        "% cd ..\n",
        "from base.torchvision_dataset import TorchvisionDataset\n",
        "import logging\n",
        "import random\n",
        "from utils.config import Config\n",
        "#from utils.visualization.plot_images_grid import plot_images_grid\n",
        "import deepSVDD\n",
        "#from datasets.main import load_dataset\n",
        "from base.base_net import BaseNet\n",
        "#from collections import namedtuple"
      ],
      "execution_count": 4,
      "outputs": [
        {
          "output_type": "stream",
          "text": [
            "/content/drive/My Drive/cocrystal_design/models/Deep-SVDD-PyTorch\n",
            "/content/drive/My Drive/cocrystal_design/models/Deep-SVDD-PyTorch/src/set_transformer\n",
            "/content/drive/My Drive/cocrystal_design/models/Deep-SVDD-PyTorch/src\n"
          ],
          "name": "stdout"
        }
      ]
    },
    {
      "cell_type": "code",
      "metadata": {
        "id": "EeAjbhcWD2S6",
        "colab_type": "code",
        "colab": {}
      },
      "source": [
        "cfg = Config({'normal_class': 1, \n",
        "              'n_jobs_dataloader': 0, \n",
        "              'ae_weight_decay': 0.0005, \n",
        "              'ae_batch_size': 200, \n",
        "              'ae_lr_milestone': (50,), \n",
        "              'ae_n_epochs': 5, \n",
        "              'ae_lr': 0.0001,\n",
        "              'ae_optimizer_name': 'adam', \n",
        "              'pretrain': True, \n",
        "              'weight_decay': 5e-07,\n",
        "              'batch_size': 200, \n",
        "              'lr_milestone': (50,),\n",
        "              'n_epochs': 5, \n",
        "              'lr': 0.0001, \n",
        "              'optimizer_name': 'adam', \n",
        "              'seed': -1, \n",
        "              'device': 'cuda', \n",
        "              'nu': 0.05, \n",
        "              'objective':  'one-class', \n",
        "              'load_model': None, \n",
        "              'load_config': None,'dataset_name': 'cocry', 'net_name': 'CocryNet'})\n",
        "\n",
        "dataset_name = cfg.settings['dataset_name']\n",
        "normal_class = cfg.settings['normal_class']\n",
        "net_name = cfg.settings['net_name']\n",
        "n_jobs_dataloader = 0"
      ],
      "execution_count": 5,
      "outputs": []
    },
    {
      "cell_type": "code",
      "metadata": {
        "id": "tYD8KGIP2i8A",
        "colab_type": "code",
        "colab": {}
      },
      "source": [
        "INPUT_DIM =  1857\n",
        "\n",
        "class PairsEncoder(BaseNet):\n",
        "\n",
        "    def __init__(self):\n",
        "        super().__init__()\n",
        "        self.rep_dim = 100\n",
        "        self.seq = nn.Sequential(SAB(dim_in=1857, dim_out=1000, num_heads=10),\n",
        "            SAB(dim_in=1000, dim_out=500, num_heads=10),\n",
        "            SAB(dim_in=500, dim_out=100, num_heads=10),\n",
        "            PMA(dim=100, num_heads=5, num_seeds=1))\n",
        "        \n",
        "    def forward(self, x):\n",
        "      x = torch.split(x, 1857, dim=1)     \n",
        "      x= torch.stack(x).transpose(0,1) \n",
        "      return self.seq(x).squeeze()\n",
        "\n",
        "class PairsAutoEncoder(BaseNet):\n",
        "\n",
        "    def __init__(self):\n",
        "        super().__init__()\n",
        "        self.encoder = PairsEncoder()\n",
        "        self.encoder.apply(init_weights)\n",
        "        self.decoder = nn.Sequential(nn.Linear(in_features=100, out_features=3714), nn.Sigmoid())\n",
        "        #self.decoder = nn.Sequential( nn.Linear(in_features=100, out_features=500), nn.LeakyReLU(),\n",
        "        #nn.Linear(in_features=500, out_features=1000),nn.LeakyReLU(),\n",
        "        #nn.Linear(in_features=1000, out_features=1857),nn.LeakyReLU(),         \n",
        "        #nn.Linear(in_features=1857, out_features=3714), nn.Sigmoid())\n",
        "\n",
        "        self.decoder.apply(init_weights)\n",
        "\n",
        "\n",
        "## nn.Sequential(nn.Linear(in_features=100, out_features=3714), nn.Sigmoid())\n",
        "    def forward(self, x):\n",
        "        return self.decoder(self.encoder(x))"
      ],
      "execution_count": 6,
      "outputs": []
    },
    {
      "cell_type": "code",
      "metadata": {
        "id": "GU-3Eh2GmyIW",
        "colab_type": "code",
        "colab": {}
      },
      "source": [
        "def build_autoencoder(net_name):\n",
        "    return PairsAutoEncoder()\n",
        "    #return nn.Sequential()~\n",
        "\n",
        "def build_network(net_name):\n",
        "  \n",
        "  return PairsEncoder()\n",
        "    #return nn.Sequential()\n",
        "torch.manual_seed(0)\n",
        "deepSVDD.build_network = build_network\n",
        "deepSVDD.build_autoencoder = build_autoencoder"
      ],
      "execution_count": 7,
      "outputs": []
    },
    {
      "cell_type": "code",
      "metadata": {
        "id": "xhjwgs1QK8qi",
        "colab_type": "code",
        "colab": {}
      },
      "source": [
        "# Load the deep learning model\n",
        "torch.manual_seed(0)\n",
        "\n",
        "deep_SVDD = deepSVDD.DeepSVDD(cfg.settings['objective'], cfg.settings['nu'])\n",
        "#net_name='model_checkpoint.pth'\n",
        "deep_SVDD.set_network(net_name)\n",
        "device = 'cuda' if torch.cuda.is_available() else 'cpu'\n",
        "deep_SVDD.load_model('/content/drive/My Drive/cocrystal_design-master/models/deep_one_class/model_checkpoint_60_epochs.pth')"
      ],
      "execution_count": 8,
      "outputs": []
    },
    {
      "cell_type": "code",
      "metadata": {
        "id": "kA-hUmqVbaXW",
        "colab_type": "code",
        "colab": {}
      },
      "source": [
        "# Import the datasets\n",
        "\n",
        "dataset1 = pd.read_csv('/content/drive/My Drive/cocrystal_design/data/coformers1.csv')\n",
        "dataset2 = pd.read_csv('/content/drive/My Drive/cocrystal_design/data/coformers2.csv')\n",
        "dataset1.head()\n",
        "\n",
        "# Dataset with ratios\n",
        "dictionar=pd.read_csv('/content/drive/My Drive/cocrystal_design/data/cocrystal_ratios.csv')\n",
        "keys = dictionar.iloc[:, 0].values\n",
        "values = dictionar.iloc[:, 3:7].values\n",
        "d = {key:value for key, value in zip(keys, values)}"
      ],
      "execution_count": 9,
      "outputs": []
    },
    {
      "cell_type": "code",
      "metadata": {
        "id": "hmgkfk8N7rbZ",
        "colab_type": "code",
        "colab": {}
      },
      "source": [
        "# Assign to each combination their molecular ratio and their Z number\n",
        "ratios=[]\n",
        "for x in dataset2['Identifier'].values:\n",
        "  ratios.append(d[x])  \n",
        "ratio=pd.DataFrame(ratios, columns=['Z', 'mol1', 'mol2', 'ratios'])  \n",
        "rat=pd.concat([dataset2 ,ratio], axis=1)\n",
        "dataset = rat.drop(['mol1', 'mol2'], axis=1)\n",
        "d2=dataset.drop(['Identifier', 'NAME'], axis=1)\n",
        "d1= dataset1.insert(loc=2, column='NAME2', value=dataset['NAME'])\n",
        "dataset_ratios=pd.concat([dataset1, d2], axis=1)\n"
      ],
      "execution_count": 10,
      "outputs": []
    },
    {
      "cell_type": "code",
      "metadata": {
        "id": "34T80q128cOr",
        "colab_type": "code",
        "colab": {}
      },
      "source": [
        "df1=dataset1.iloc[:,3:]\n",
        "df1 = df1.fillna(df1.mean())\n",
        "df2=dataset2.iloc[:,2:]\n",
        "df2 = df2.fillna(df2.mean())\n",
        "df1=df1.dropna(axis=1)\n",
        "df2=df2[df1.columns.values]\n"
      ],
      "execution_count": 11,
      "outputs": []
    },
    {
      "cell_type": "code",
      "metadata": {
        "id": "ejTHd3cE0YEP",
        "colab_type": "code",
        "colab": {
          "base_uri": "https://localhost:8080/",
          "height": 34
        },
        "outputId": "b30c004c-4011-43de-8473-0609403f3b62"
      },
      "source": [
        "# Dictionary assinign to each combination of the unlabelled dataset the smiles of the molecular pairs\n",
        "dictionary = pd.read_csv('/content/drive/My Drive/cocrystal_design/data/dictionary.csv')\n",
        "k1 = dictionary.comb\n",
        "v1= dictionary.iloc[:, 1:3].values\n",
        "dict= {key:value for key, value in zip(k1, v1)}\n",
        "print(dict['comb1'])"
      ],
      "execution_count": 12,
      "outputs": [
        {
          "output_type": "stream",
          "text": [
            "['O=C1C=Cc2ccc3C=CC(=O)c4ccc1c2c34' 'c1cc2c3cccc4ccc5ccc(c1)c2c5c34']\n"
          ],
          "name": "stdout"
        }
      ]
    },
    {
      "cell_type": "code",
      "metadata": {
        "id": "t8Ov0Ywr8885",
        "colab_type": "code",
        "colab": {}
      },
      "source": [
        "# Construct the labelled dataset by contatenating the feature set of each coformer in both orders\n",
        "# We have a vector of 50 dimensions now\n",
        "def concat_bidirectional(dataset1, dataset2):\n",
        "\n",
        "  return pd.concat([pd.concat([dataset['Identifier'], dataset1, dataset2], axis=1), pd.concat([dataset['Identifier'].apply(lambda x: f\"{x}_\"),dataset2, dataset1], axis=1) ])\n"
      ],
      "execution_count": 13,
      "outputs": []
    },
    {
      "cell_type": "code",
      "metadata": {
        "id": "sCi0Sd9U-MJs",
        "colab_type": "code",
        "colab": {
          "base_uri": "https://localhost:8080/",
          "height": 254
        },
        "outputId": "2e0a3622-991f-4ff7-e613-a4f4e194ade3"
      },
      "source": [
        "# Standarize the dataset\n",
        "# Standarize the data\n",
        "from sklearn import preprocessing\n",
        "from sklearn.preprocessing import StandardScaler\n",
        "from sklearn.preprocessing import MinMaxScaler\n",
        "\n",
        "X_scaler = MinMaxScaler()\n",
        "#X_scaler = StandardScaler()\n",
        "\n",
        "df_concat = pd.concat([df1, df2])\n",
        "df_concat = df_concat.drop_duplicates(keep='first')\n",
        "numerical_cols = df_concat.columns[:]\n",
        "df_scaled = pd.DataFrame(X_scaler.fit(df_concat), columns=numerical_cols, index=df_concat.index)\n",
        "\n",
        "numerical_cols = df2.columns[:]\n",
        "df1_scaled =  pd.DataFrame(X_scaler.transform(df1[numerical_cols]), columns=numerical_cols, index=df1.index)\n",
        "df2_scaled = pd.DataFrame(X_scaler.transform(df2[numerical_cols]), columns=numerical_cols, index=df2.index)\n",
        "\n",
        "# Final bidirectional concatenated dataset, after feature selection and scaling \n",
        "df = concat_bidirectional(df1_scaled,df2_scaled)\n",
        "\n",
        "# Final bidirectional concatenated dataset, after feature selection and scaling \n",
        "df_ratios = pd.concat([df, pd.concat([dataset['ratios'], dataset['ratios']])], axis=1)\n",
        "df_ratios.tail()"
      ],
      "execution_count": 14,
      "outputs": [
        {
          "output_type": "execute_result",
          "data": {
            "text/html": [
              "<div>\n",
              "<style scoped>\n",
              "    .dataframe tbody tr th:only-of-type {\n",
              "        vertical-align: middle;\n",
              "    }\n",
              "\n",
              "    .dataframe tbody tr th {\n",
              "        vertical-align: top;\n",
              "    }\n",
              "\n",
              "    .dataframe thead th {\n",
              "        text-align: right;\n",
              "    }\n",
              "</style>\n",
              "<table border=\"1\" class=\"dataframe\">\n",
              "  <thead>\n",
              "    <tr style=\"text-align: right;\">\n",
              "      <th></th>\n",
              "      <th>Identifier</th>\n",
              "      <th>MW</th>\n",
              "      <th>AMW</th>\n",
              "      <th>Sv</th>\n",
              "      <th>Se</th>\n",
              "      <th>Sp</th>\n",
              "      <th>Si</th>\n",
              "      <th>Mv</th>\n",
              "      <th>Me</th>\n",
              "      <th>Mp</th>\n",
              "      <th>Mi</th>\n",
              "      <th>nAT</th>\n",
              "      <th>nSK</th>\n",
              "      <th>nBT</th>\n",
              "      <th>nBO</th>\n",
              "      <th>nBM</th>\n",
              "      <th>SCBO</th>\n",
              "      <th>RBN</th>\n",
              "      <th>RBF</th>\n",
              "      <th>nDB</th>\n",
              "      <th>nTB</th>\n",
              "      <th>nAB</th>\n",
              "      <th>nH</th>\n",
              "      <th>nC</th>\n",
              "      <th>nN</th>\n",
              "      <th>nO</th>\n",
              "      <th>nP</th>\n",
              "      <th>nS</th>\n",
              "      <th>nF</th>\n",
              "      <th>nCL</th>\n",
              "      <th>nBR</th>\n",
              "      <th>nHM</th>\n",
              "      <th>nHet</th>\n",
              "      <th>nX</th>\n",
              "      <th>H%</th>\n",
              "      <th>C%</th>\n",
              "      <th>N%</th>\n",
              "      <th>O%</th>\n",
              "      <th>X%</th>\n",
              "      <th>nCsp3</th>\n",
              "      <th>...</th>\n",
              "      <th>Hy</th>\n",
              "      <th>AMR</th>\n",
              "      <th>TPSA(NO)</th>\n",
              "      <th>TPSA(Tot)</th>\n",
              "      <th>MLOGP</th>\n",
              "      <th>MLOGP2</th>\n",
              "      <th>ALOGP</th>\n",
              "      <th>ALOGP2</th>\n",
              "      <th>SAtot</th>\n",
              "      <th>SAacc</th>\n",
              "      <th>Vx</th>\n",
              "      <th>VvdwMG</th>\n",
              "      <th>VvdwZAZ</th>\n",
              "      <th>PDI</th>\n",
              "      <th>BLTF96</th>\n",
              "      <th>BLTD48</th>\n",
              "      <th>BLTA96</th>\n",
              "      <th>cRo5</th>\n",
              "      <th>DLS_01</th>\n",
              "      <th>DLS_02</th>\n",
              "      <th>DLS_03</th>\n",
              "      <th>DLS_04</th>\n",
              "      <th>DLS_05</th>\n",
              "      <th>DLS_06</th>\n",
              "      <th>DLS_cons</th>\n",
              "      <th>LLS_01</th>\n",
              "      <th>LLS_02</th>\n",
              "      <th>CMC-80</th>\n",
              "      <th>CMC-50</th>\n",
              "      <th>Inflammat-80</th>\n",
              "      <th>Inflammat-50</th>\n",
              "      <th>Depressant-80</th>\n",
              "      <th>Psychotic-80</th>\n",
              "      <th>Hypertens-80</th>\n",
              "      <th>Hypnotic-80</th>\n",
              "      <th>Neoplastic-80</th>\n",
              "      <th>Neoplastic-50</th>\n",
              "      <th>Infective-80</th>\n",
              "      <th>Infective-50</th>\n",
              "      <th>ratios</th>\n",
              "    </tr>\n",
              "  </thead>\n",
              "  <tbody>\n",
              "    <tr>\n",
              "      <th>1717</th>\n",
              "      <td>AFOTIB_</td>\n",
              "      <td>0.007336</td>\n",
              "      <td>0.048022</td>\n",
              "      <td>0.009960</td>\n",
              "      <td>0.010702</td>\n",
              "      <td>0.010247</td>\n",
              "      <td>0.013163</td>\n",
              "      <td>0.213913</td>\n",
              "      <td>0.218182</td>\n",
              "      <td>0.142678</td>\n",
              "      <td>0.394052</td>\n",
              "      <td>0.013369</td>\n",
              "      <td>0.010695</td>\n",
              "      <td>0.015345</td>\n",
              "      <td>0.009217</td>\n",
              "      <td>0.034483</td>\n",
              "      <td>0.016447</td>\n",
              "      <td>0.0</td>\n",
              "      <td>0.0</td>\n",
              "      <td>0.0</td>\n",
              "      <td>0.0</td>\n",
              "      <td>0.034483</td>\n",
              "      <td>0.038095</td>\n",
              "      <td>0.026316</td>\n",
              "      <td>0.000000</td>\n",
              "      <td>0.0</td>\n",
              "      <td>0.0</td>\n",
              "      <td>0.0</td>\n",
              "      <td>0.0</td>\n",
              "      <td>0.0</td>\n",
              "      <td>0.0</td>\n",
              "      <td>0.0</td>\n",
              "      <td>0.000000</td>\n",
              "      <td>0.0</td>\n",
              "      <td>0.761429</td>\n",
              "      <td>0.585652</td>\n",
              "      <td>0.00000</td>\n",
              "      <td>0.0</td>\n",
              "      <td>0.0</td>\n",
              "      <td>0.010417</td>\n",
              "      <td>...</td>\n",
              "      <td>0.040886</td>\n",
              "      <td>0.371591</td>\n",
              "      <td>0.213870</td>\n",
              "      <td>0.121965</td>\n",
              "      <td>0.585153</td>\n",
              "      <td>0.077114</td>\n",
              "      <td>0.405911</td>\n",
              "      <td>0.128157</td>\n",
              "      <td>0.159532</td>\n",
              "      <td>0.174018</td>\n",
              "      <td>0.408174</td>\n",
              "      <td>0.408174</td>\n",
              "      <td>0.339226</td>\n",
              "      <td>0.365471</td>\n",
              "      <td>0.581612</td>\n",
              "      <td>0.581522</td>\n",
              "      <td>0.581756</td>\n",
              "      <td>0.0</td>\n",
              "      <td>0.333333</td>\n",
              "      <td>0.00000</td>\n",
              "      <td>0.253731</td>\n",
              "      <td>0.4</td>\n",
              "      <td>0.5</td>\n",
              "      <td>0.39759</td>\n",
              "      <td>0.341176</td>\n",
              "      <td>0.00000</td>\n",
              "      <td>0.333333</td>\n",
              "      <td>0.000000</td>\n",
              "      <td>0.000000</td>\n",
              "      <td>0.000000</td>\n",
              "      <td>0.000000</td>\n",
              "      <td>0.000000</td>\n",
              "      <td>0.000000</td>\n",
              "      <td>0.000000</td>\n",
              "      <td>0.00000</td>\n",
              "      <td>0.000000</td>\n",
              "      <td>0.000000</td>\n",
              "      <td>0.000000</td>\n",
              "      <td>0.000000</td>\n",
              "      <td>1/3</td>\n",
              "    </tr>\n",
              "    <tr>\n",
              "      <th>1718</th>\n",
              "      <td>CIQNIC_</td>\n",
              "      <td>0.007336</td>\n",
              "      <td>0.048022</td>\n",
              "      <td>0.009960</td>\n",
              "      <td>0.010702</td>\n",
              "      <td>0.010247</td>\n",
              "      <td>0.013163</td>\n",
              "      <td>0.213913</td>\n",
              "      <td>0.218182</td>\n",
              "      <td>0.142678</td>\n",
              "      <td>0.394052</td>\n",
              "      <td>0.013369</td>\n",
              "      <td>0.010695</td>\n",
              "      <td>0.015345</td>\n",
              "      <td>0.009217</td>\n",
              "      <td>0.034483</td>\n",
              "      <td>0.016447</td>\n",
              "      <td>0.0</td>\n",
              "      <td>0.0</td>\n",
              "      <td>0.0</td>\n",
              "      <td>0.0</td>\n",
              "      <td>0.034483</td>\n",
              "      <td>0.038095</td>\n",
              "      <td>0.026316</td>\n",
              "      <td>0.000000</td>\n",
              "      <td>0.0</td>\n",
              "      <td>0.0</td>\n",
              "      <td>0.0</td>\n",
              "      <td>0.0</td>\n",
              "      <td>0.0</td>\n",
              "      <td>0.0</td>\n",
              "      <td>0.0</td>\n",
              "      <td>0.000000</td>\n",
              "      <td>0.0</td>\n",
              "      <td>0.761429</td>\n",
              "      <td>0.585652</td>\n",
              "      <td>0.00000</td>\n",
              "      <td>0.0</td>\n",
              "      <td>0.0</td>\n",
              "      <td>0.010417</td>\n",
              "      <td>...</td>\n",
              "      <td>0.071550</td>\n",
              "      <td>0.276064</td>\n",
              "      <td>0.000000</td>\n",
              "      <td>0.000000</td>\n",
              "      <td>0.702168</td>\n",
              "      <td>0.231790</td>\n",
              "      <td>0.656899</td>\n",
              "      <td>0.395933</td>\n",
              "      <td>0.159532</td>\n",
              "      <td>0.174018</td>\n",
              "      <td>0.475339</td>\n",
              "      <td>0.475339</td>\n",
              "      <td>0.446229</td>\n",
              "      <td>0.365471</td>\n",
              "      <td>0.417578</td>\n",
              "      <td>0.417391</td>\n",
              "      <td>0.417556</td>\n",
              "      <td>0.0</td>\n",
              "      <td>0.333333</td>\n",
              "      <td>0.00000</td>\n",
              "      <td>0.253731</td>\n",
              "      <td>0.5</td>\n",
              "      <td>0.5</td>\n",
              "      <td>0.39759</td>\n",
              "      <td>0.352941</td>\n",
              "      <td>0.39759</td>\n",
              "      <td>0.173333</td>\n",
              "      <td>0.000000</td>\n",
              "      <td>0.000000</td>\n",
              "      <td>0.000000</td>\n",
              "      <td>0.000000</td>\n",
              "      <td>0.000000</td>\n",
              "      <td>0.000000</td>\n",
              "      <td>0.000000</td>\n",
              "      <td>0.00000</td>\n",
              "      <td>0.000000</td>\n",
              "      <td>0.000000</td>\n",
              "      <td>0.000000</td>\n",
              "      <td>0.000000</td>\n",
              "      <td>1/2</td>\n",
              "    </tr>\n",
              "    <tr>\n",
              "      <th>1719</th>\n",
              "      <td>DIVZUG_</td>\n",
              "      <td>0.007336</td>\n",
              "      <td>0.048022</td>\n",
              "      <td>0.009960</td>\n",
              "      <td>0.010702</td>\n",
              "      <td>0.010247</td>\n",
              "      <td>0.013163</td>\n",
              "      <td>0.213913</td>\n",
              "      <td>0.218182</td>\n",
              "      <td>0.142678</td>\n",
              "      <td>0.394052</td>\n",
              "      <td>0.013369</td>\n",
              "      <td>0.010695</td>\n",
              "      <td>0.015345</td>\n",
              "      <td>0.009217</td>\n",
              "      <td>0.034483</td>\n",
              "      <td>0.016447</td>\n",
              "      <td>0.0</td>\n",
              "      <td>0.0</td>\n",
              "      <td>0.0</td>\n",
              "      <td>0.0</td>\n",
              "      <td>0.034483</td>\n",
              "      <td>0.038095</td>\n",
              "      <td>0.026316</td>\n",
              "      <td>0.000000</td>\n",
              "      <td>0.0</td>\n",
              "      <td>0.0</td>\n",
              "      <td>0.0</td>\n",
              "      <td>0.0</td>\n",
              "      <td>0.0</td>\n",
              "      <td>0.0</td>\n",
              "      <td>0.0</td>\n",
              "      <td>0.000000</td>\n",
              "      <td>0.0</td>\n",
              "      <td>0.761429</td>\n",
              "      <td>0.585652</td>\n",
              "      <td>0.00000</td>\n",
              "      <td>0.0</td>\n",
              "      <td>0.0</td>\n",
              "      <td>0.010417</td>\n",
              "      <td>...</td>\n",
              "      <td>0.059341</td>\n",
              "      <td>0.447941</td>\n",
              "      <td>0.635763</td>\n",
              "      <td>0.574191</td>\n",
              "      <td>0.553179</td>\n",
              "      <td>0.049300</td>\n",
              "      <td>0.502026</td>\n",
              "      <td>0.213310</td>\n",
              "      <td>0.407073</td>\n",
              "      <td>0.502437</td>\n",
              "      <td>0.457477</td>\n",
              "      <td>0.457477</td>\n",
              "      <td>0.383055</td>\n",
              "      <td>0.424242</td>\n",
              "      <td>0.626569</td>\n",
              "      <td>0.626449</td>\n",
              "      <td>0.626506</td>\n",
              "      <td>0.0</td>\n",
              "      <td>0.000000</td>\n",
              "      <td>0.00000</td>\n",
              "      <td>0.000000</td>\n",
              "      <td>0.5</td>\n",
              "      <td>0.5</td>\n",
              "      <td>0.00000</td>\n",
              "      <td>0.141176</td>\n",
              "      <td>0.00000</td>\n",
              "      <td>0.333333</td>\n",
              "      <td>0.000000</td>\n",
              "      <td>0.000000</td>\n",
              "      <td>0.000000</td>\n",
              "      <td>0.000000</td>\n",
              "      <td>0.000000</td>\n",
              "      <td>0.000000</td>\n",
              "      <td>0.000000</td>\n",
              "      <td>0.00000</td>\n",
              "      <td>0.000000</td>\n",
              "      <td>0.000000</td>\n",
              "      <td>0.000000</td>\n",
              "      <td>0.000000</td>\n",
              "      <td>1/2</td>\n",
              "    </tr>\n",
              "    <tr>\n",
              "      <th>1720</th>\n",
              "      <td>PIQTOB_</td>\n",
              "      <td>0.007336</td>\n",
              "      <td>0.048022</td>\n",
              "      <td>0.009960</td>\n",
              "      <td>0.010702</td>\n",
              "      <td>0.010247</td>\n",
              "      <td>0.013163</td>\n",
              "      <td>0.213913</td>\n",
              "      <td>0.218182</td>\n",
              "      <td>0.142678</td>\n",
              "      <td>0.394052</td>\n",
              "      <td>0.013369</td>\n",
              "      <td>0.010695</td>\n",
              "      <td>0.015345</td>\n",
              "      <td>0.009217</td>\n",
              "      <td>0.034483</td>\n",
              "      <td>0.016447</td>\n",
              "      <td>0.0</td>\n",
              "      <td>0.0</td>\n",
              "      <td>0.0</td>\n",
              "      <td>0.0</td>\n",
              "      <td>0.034483</td>\n",
              "      <td>0.038095</td>\n",
              "      <td>0.026316</td>\n",
              "      <td>0.000000</td>\n",
              "      <td>0.0</td>\n",
              "      <td>0.0</td>\n",
              "      <td>0.0</td>\n",
              "      <td>0.0</td>\n",
              "      <td>0.0</td>\n",
              "      <td>0.0</td>\n",
              "      <td>0.0</td>\n",
              "      <td>0.000000</td>\n",
              "      <td>0.0</td>\n",
              "      <td>0.761429</td>\n",
              "      <td>0.585652</td>\n",
              "      <td>0.00000</td>\n",
              "      <td>0.0</td>\n",
              "      <td>0.0</td>\n",
              "      <td>0.010417</td>\n",
              "      <td>...</td>\n",
              "      <td>0.063316</td>\n",
              "      <td>0.185462</td>\n",
              "      <td>0.000000</td>\n",
              "      <td>0.000000</td>\n",
              "      <td>0.438005</td>\n",
              "      <td>0.000463</td>\n",
              "      <td>0.241250</td>\n",
              "      <td>0.053311</td>\n",
              "      <td>0.159532</td>\n",
              "      <td>0.174018</td>\n",
              "      <td>0.092767</td>\n",
              "      <td>0.092767</td>\n",
              "      <td>0.086713</td>\n",
              "      <td>0.365471</td>\n",
              "      <td>0.787768</td>\n",
              "      <td>0.787681</td>\n",
              "      <td>0.787952</td>\n",
              "      <td>1.0</td>\n",
              "      <td>1.000000</td>\n",
              "      <td>1.00000</td>\n",
              "      <td>1.000000</td>\n",
              "      <td>0.9</td>\n",
              "      <td>0.5</td>\n",
              "      <td>1.00000</td>\n",
              "      <td>0.894118</td>\n",
              "      <td>0.60241</td>\n",
              "      <td>1.000000</td>\n",
              "      <td>0.147579</td>\n",
              "      <td>0.030746</td>\n",
              "      <td>0.064566</td>\n",
              "      <td>0.013067</td>\n",
              "      <td>0.042275</td>\n",
              "      <td>0.040738</td>\n",
              "      <td>0.075327</td>\n",
              "      <td>0.05073</td>\n",
              "      <td>0.111453</td>\n",
              "      <td>0.029208</td>\n",
              "      <td>0.193697</td>\n",
              "      <td>0.033051</td>\n",
              "      <td>1/2</td>\n",
              "    </tr>\n",
              "    <tr>\n",
              "      <th>1721</th>\n",
              "      <td>RAWXEU_</td>\n",
              "      <td>0.002560</td>\n",
              "      <td>0.075504</td>\n",
              "      <td>0.001103</td>\n",
              "      <td>0.000629</td>\n",
              "      <td>0.000117</td>\n",
              "      <td>0.002792</td>\n",
              "      <td>0.276522</td>\n",
              "      <td>0.275758</td>\n",
              "      <td>0.160200</td>\n",
              "      <td>0.431227</td>\n",
              "      <td>0.002674</td>\n",
              "      <td>0.005348</td>\n",
              "      <td>0.005115</td>\n",
              "      <td>0.004608</td>\n",
              "      <td>0.034483</td>\n",
              "      <td>0.013158</td>\n",
              "      <td>0.0</td>\n",
              "      <td>0.0</td>\n",
              "      <td>0.0</td>\n",
              "      <td>0.0</td>\n",
              "      <td>0.034483</td>\n",
              "      <td>0.023810</td>\n",
              "      <td>0.015789</td>\n",
              "      <td>0.066667</td>\n",
              "      <td>0.0</td>\n",
              "      <td>0.0</td>\n",
              "      <td>0.0</td>\n",
              "      <td>0.0</td>\n",
              "      <td>0.0</td>\n",
              "      <td>0.0</td>\n",
              "      <td>0.0</td>\n",
              "      <td>0.022222</td>\n",
              "      <td>0.0</td>\n",
              "      <td>0.650000</td>\n",
              "      <td>0.568082</td>\n",
              "      <td>0.15937</td>\n",
              "      <td>0.0</td>\n",
              "      <td>0.0</td>\n",
              "      <td>0.000000</td>\n",
              "      <td>...</td>\n",
              "      <td>0.086882</td>\n",
              "      <td>0.127527</td>\n",
              "      <td>0.218010</td>\n",
              "      <td>0.124326</td>\n",
              "      <td>0.568527</td>\n",
              "      <td>0.061880</td>\n",
              "      <td>0.214677</td>\n",
              "      <td>0.022901</td>\n",
              "      <td>0.114399</td>\n",
              "      <td>0.213824</td>\n",
              "      <td>0.125908</td>\n",
              "      <td>0.125907</td>\n",
              "      <td>0.104198</td>\n",
              "      <td>0.350000</td>\n",
              "      <td>0.604698</td>\n",
              "      <td>0.604710</td>\n",
              "      <td>0.604819</td>\n",
              "      <td>0.0</td>\n",
              "      <td>0.333333</td>\n",
              "      <td>0.60241</td>\n",
              "      <td>0.507463</td>\n",
              "      <td>0.2</td>\n",
              "      <td>0.0</td>\n",
              "      <td>0.60241</td>\n",
              "      <td>0.447059</td>\n",
              "      <td>0.00000</td>\n",
              "      <td>0.666667</td>\n",
              "      <td>0.000000</td>\n",
              "      <td>0.000000</td>\n",
              "      <td>0.000000</td>\n",
              "      <td>0.000000</td>\n",
              "      <td>0.000000</td>\n",
              "      <td>0.000000</td>\n",
              "      <td>0.000000</td>\n",
              "      <td>0.00000</td>\n",
              "      <td>0.000000</td>\n",
              "      <td>0.000000</td>\n",
              "      <td>0.000000</td>\n",
              "      <td>0.000000</td>\n",
              "      <td>1/2</td>\n",
              "    </tr>\n",
              "  </tbody>\n",
              "</table>\n",
              "<p>5 rows × 3716 columns</p>\n",
              "</div>"
            ],
            "text/plain": [
              "     Identifier        MW       AMW  ...  Infective-80  Infective-50  ratios\n",
              "1717    AFOTIB_  0.007336  0.048022  ...      0.000000      0.000000     1/3\n",
              "1718    CIQNIC_  0.007336  0.048022  ...      0.000000      0.000000     1/2\n",
              "1719    DIVZUG_  0.007336  0.048022  ...      0.000000      0.000000     1/2\n",
              "1720    PIQTOB_  0.007336  0.048022  ...      0.193697      0.033051     1/2\n",
              "1721    RAWXEU_  0.002560  0.075504  ...      0.000000      0.000000     1/2\n",
              "\n",
              "[5 rows x 3716 columns]"
            ]
          },
          "metadata": {
            "tags": []
          },
          "execution_count": 14
        }
      ]
    },
    {
      "cell_type": "code",
      "metadata": {
        "id": "ht7fBdhWTtLn",
        "colab_type": "code",
        "colab": {}
      },
      "source": [
        "def score(deep_SVDD, X):\n",
        "    with torch.no_grad():\n",
        "        net = deep_SVDD.net.to(device)\n",
        "        X = torch.FloatTensor(X).to(device)\n",
        "        y = net(X)\n",
        "        c, R = torch.FloatTensor([deep_SVDD.c]).to(device), torch.FloatTensor([deep_SVDD.R]).to(device)\n",
        "        dist = torch.sum((y - c)**2, dim=1)\n",
        "        if deep_SVDD.objective == 'soft-boundary':\n",
        "            scores = dist - R ** 2\n",
        "        else:\n",
        "            scores = dist\n",
        "    return scores"
      ],
      "execution_count": 15,
      "outputs": []
    },
    {
      "cell_type": "code",
      "metadata": {
        "colab_type": "code",
        "id": "4pAAK4G_WN37",
        "colab": {
          "base_uri": "https://localhost:8080/",
          "height": 34
        },
        "outputId": "89322e41-ef98-4f77-e0bc-37de9a7fc9b9"
      },
      "source": [
        "# Scoring the labelled and unlabelled data\n",
        "from sklearn.preprocessing import MinMaxScaler\n",
        "y_scaler1 = MinMaxScaler()\n",
        "\n",
        "lab = score(deep_SVDD, df.iloc[:1722,1:].values).cpu().detach().numpy()*-1 \n",
        "lab= y_scaler1.fit_transform(lab.reshape(-1,1))\n",
        "lab=pd.DataFrame(lab, columns=['train_score'])\n"
      ],
      "execution_count": 16,
      "outputs": [
        {
          "output_type": "stream",
          "text": [
            "1722\n"
          ],
          "name": "stdout"
        }
      ]
    },
    {
      "cell_type": "code",
      "metadata": {
        "id": "ohLH-CIR6TBT",
        "colab_type": "code",
        "colab": {
          "base_uri": "https://localhost:8080/",
          "height": 466
        },
        "outputId": "c1e2a8a0-2274-450a-d564-312d0e922262"
      },
      "source": [
        "# Count the molecular ratios of the co-crystals in the training set and visualization in a pie chart\n",
        "\n",
        "import matplotlib.pyplot as plotter\n",
        "from pylab import rcParams\n",
        "rcParams['figure.figsize'] = 8, 8\n",
        "\n",
        "counts = dataset_ratios.ratios.value_counts() #dataset_ratios.ratios.value_counts()\n",
        "# The slice names of a population distribution pie chart\n",
        "pieLabels = '1:1', '1:2', '1:3', 'more'\n",
        "\n",
        "# Population data\n",
        "populationShare  = (counts.values[0], counts.values[1], counts.values[2], dataset_ratios.shape[0]-counts.values[0] -counts.values[1]- counts.values[2])\n",
        "figureObject, axesObject = plotter.subplots()\n",
        "\n",
        "# Draw the pie chart\n",
        "axesObject.pie(populationShare, labels=pieLabels,  autopct='%1.2f', startangle=45,  textprops={'size': 'x-large'}, radius=0.5)\n",
        "axesObject.axis('equal')\n",
        "plotter.figure\n",
        "plotter.legend()\n",
        "#plotter.savefig('pie-chart.eps')\n",
        "plotter.show()"
      ],
      "execution_count": 184,
      "outputs": [
        {
          "output_type": "display_data",
          "data": {
            "image/png": "[encoded data removed]",
            "text/plain": [
              "<Figure size 576x576 with 1 Axes>"
            ]
          },
          "metadata": {
            "tags": []
          }
        }
      ]
    },
    {
      "cell_type": "code",
      "metadata": {
        "colab_type": "code",
        "id": "KUQzX5dq4xRx",
        "colab": {
          "base_uri": "https://localhost:8080/",
          "height": 466
        },
        "outputId": "e1723cb1-bb16-4aaf-ba3c-d6cf5f0454c1"
      },
      "source": [
        "import pandas as pd\n",
        "import matplotlib.pyplot as plt\n",
        "\n",
        "Labels = '1:1', '1:2', '1:3', 'more'\n",
        "df1 = pd.concat([pd.DataFrame(Labels, columns=['ratio']) ,pd.DataFrame(populationShare, columns=['count'])], axis=1)\n",
        "freq = pd.Series(df1['count'])\n",
        "fig,ax = plt.subplots(figsize=(10,8))\n",
        "fig.patch.set_visible(False)\n",
        "ax.axis('off')\n",
        "freq.to_frame().T.plot.bar(stacked=True, width=0.07, ax=ax)\n",
        "ax.get_legend().remove()\n",
        "ax.text(0.04, 300, s='1:1', va='center', fontsize=18)\n",
        "ax.text(0.04, 1400, s='1:2', va='center', fontsize=18)\n",
        "ax.text(0.04, 1600, s='1:3', va='center', fontsize=18)\n",
        "ax.text(0.04, 1700, s='> 1:3', va='center', fontsize=18)\n",
        "\n",
        "# Add the percentages\n",
        "ax.text(-0.06, 300, s='71.72%', va='center', fontsize=18)\n",
        "ax.text(-0.06, 1400, s='21.60%', va='center', fontsize=18)\n",
        "ax.text(-0.06, 1600, s='3.19%', va='center', fontsize=18)\n",
        "ax.text(-0.06, 1700, s='3.48%', va='center', fontsize=18)\n",
        "ax.set_ylabel('Counts')\n",
        "ax.set_xlabel('Co-crystal Ratios')\n",
        "ax.set_ylim(0, 2000)\n",
        "ax.set_xlim(-0.1, 0.1)\n",
        "\n",
        "plt.savefig('barch.svg')"
      ],
      "execution_count": 81,
      "outputs": [
        {
          "output_type": "display_data",
          "data": {
            "image/png": "[encoded data removed]",
            "text/plain": [
              "<Figure size 720x576 with 1 Axes>"
            ]
          },
          "metadata": {
            "tags": []
          }
        }
      ]
    },
    {
      "cell_type": "code",
      "metadata": {
        "id": "AHP0zSUaygGd",
        "colab_type": "code",
        "colab": {
          "base_uri": "https://localhost:8080/",
          "height": 196
        },
        "outputId": "93c11554-9257-485f-8faa-bde37a14a0aa"
      },
      "source": [
        "ratios = df_ratios.ratios\n",
        "ratios[ratios != '1'] = 1\n",
        "ratios[ratios == '1'] = 0"
      ],
      "execution_count": 18,
      "outputs": [
        {
          "output_type": "stream",
          "text": [
            "/usr/local/lib/python3.6/dist-packages/pandas/core/generic.py:8765: SettingWithCopyWarning: \n",
            "A value is trying to be set on a copy of a slice from a DataFrame\n",
            "\n",
            "See the caveats in the documentation: https://pandas.pydata.org/pandas-docs/stable/user_guide/indexing.html#returning-a-view-versus-a-copy\n",
            "  self._update_inplace(new_data)\n",
            "/usr/local/lib/python3.6/dist-packages/ipykernel_launcher.py:3: SettingWithCopyWarning: \n",
            "A value is trying to be set on a copy of a slice from a DataFrame\n",
            "\n",
            "See the caveats in the documentation: https://pandas.pydata.org/pandas-docs/stable/user_guide/indexing.html#returning-a-view-versus-a-copy\n",
            "  This is separate from the ipykernel package so we can avoid doing imports until\n"
          ],
          "name": "stderr"
        }
      ]
    },
    {
      "cell_type": "code",
      "metadata": {
        "id": "ZX0zORDw0OVZ",
        "colab_type": "code",
        "colab": {}
      },
      "source": [
        "# Predict the ratios\n",
        "from sklearn.model_selection import train_test_split\n",
        "from sklearn.preprocessing import StandardScaler\n",
        "from sklearn.preprocessing import MinMaxScaler\n",
        "from sklearn.utils import shuffle\n",
        "\n",
        "net = deep_SVDD.net.to(device)\n",
        "X= df.iloc[:,1:].values\n",
        "\n",
        "X = torch.FloatTensor(X).to(device)\n",
        "y1 = net(X)\n",
        "\n",
        "X= y1.cpu().detach().numpy()\n",
        "\n",
        "\n",
        "y= ratios# df_ratios.iloc[:, -1].values #\n",
        "\n",
        "y = y.apply(str)\n"
      ],
      "execution_count": 178,
      "outputs": []
    },
    {
      "cell_type": "code",
      "metadata": {
        "id": "Igwcr6RpTx8w",
        "colab_type": "code",
        "colab": {
          "base_uri": "https://localhost:8080/",
          "height": 108
        },
        "outputId": "7666c864-c758-46a4-dea9-197fc6633abf"
      },
      "source": [
        "from imblearn.over_sampling import SMOTE\n",
        "\n",
        "smote =SMOTE('minority', k_neighbors=5, random_state=0)\n",
        "\n",
        "X_sm, y_sm= smote.fit_sample(X, y)\n",
        "print(X_sm.shape, y_sm.shape)\n",
        "print(X.shape)\n",
        "\n",
        "\n",
        "X_train, X_test, y_train, y_test = train_test_split(X_sm, y_sm, test_size = 0.35, random_state=0)"
      ],
      "execution_count": 179,
      "outputs": [
        {
          "output_type": "stream",
          "text": [
            "/usr/local/lib/python3.6/dist-packages/sklearn/utils/deprecation.py:87: FutureWarning: Function safe_indexing is deprecated; safe_indexing is deprecated in version 0.22 and will be removed in version 0.24.\n",
            "  warnings.warn(msg, category=FutureWarning)\n"
          ],
          "name": "stderr"
        },
        {
          "output_type": "stream",
          "text": [
            "(4940, 100) (4940,)\n",
            "(3444, 100)\n"
          ],
          "name": "stdout"
        }
      ]
    },
    {
      "cell_type": "code",
      "metadata": {
        "id": "qT7Pwb3TqWNM",
        "colab_type": "code",
        "colab": {
          "base_uri": "https://localhost:8080/",
          "height": 988
        },
        "outputId": "2cdcae87-08ab-4c96-ab06-5fdf516b242b"
      },
      "source": [
        "# Same settings but having as an input the bidirectional representation\n",
        "clf = XGBClassifier(learning_rate=0.2, n_estimators=40, max_depth=10,\n",
        "                        min_child_weight=1, gamma=0.01, subsample=0.9, colsample_bytree=0.53,\n",
        "                        objective='binary:logistic', nthread=2, scale_pos_weight=1, seed=0) \n",
        "eval_set = [(X_train, y_train), (X_test, y_test)]\n",
        "\n",
        "clf.fit(X_train, y_train, early_stopping_rounds=15, eval_metric=\"auc\", eval_set=eval_set, verbose=True)\n",
        "y_pred = clf.predict(X_test)                     \n",
        "\n",
        "\n",
        "print(confusion_matrix(y_test, y_pred))\n",
        "print(classification_report(y_test, y_pred))"
      ],
      "execution_count": 171,
      "outputs": [
        {
          "output_type": "stream",
          "text": [
            "[0]\tvalidation_0-auc:0.875305\tvalidation_1-auc:0.690772\n",
            "Multiple eval metrics have been passed: 'validation_1-auc' will be used for early stopping.\n",
            "\n",
            "Will train until validation_1-auc hasn't improved in 15 rounds.\n",
            "[1]\tvalidation_0-auc:0.960516\tvalidation_1-auc:0.742098\n",
            "[2]\tvalidation_0-auc:0.981817\tvalidation_1-auc:0.769991\n",
            "[3]\tvalidation_0-auc:0.989518\tvalidation_1-auc:0.794058\n",
            "[4]\tvalidation_0-auc:0.991876\tvalidation_1-auc:0.805466\n",
            "[5]\tvalidation_0-auc:0.995101\tvalidation_1-auc:0.824768\n",
            "[6]\tvalidation_0-auc:0.997317\tvalidation_1-auc:0.831946\n",
            "[7]\tvalidation_0-auc:0.997385\tvalidation_1-auc:0.834819\n",
            "[8]\tvalidation_0-auc:0.998242\tvalidation_1-auc:0.839298\n",
            "[9]\tvalidation_0-auc:0.998889\tvalidation_1-auc:0.846132\n",
            "[10]\tvalidation_0-auc:0.999026\tvalidation_1-auc:0.848025\n",
            "[11]\tvalidation_0-auc:0.999495\tvalidation_1-auc:0.852016\n",
            "[12]\tvalidation_0-auc:0.999665\tvalidation_1-auc:0.853135\n",
            "[13]\tvalidation_0-auc:0.999745\tvalidation_1-auc:0.855778\n",
            "[14]\tvalidation_0-auc:0.999825\tvalidation_1-auc:0.85629\n",
            "[15]\tvalidation_0-auc:0.999857\tvalidation_1-auc:0.859552\n",
            "[16]\tvalidation_0-auc:0.999891\tvalidation_1-auc:0.861628\n",
            "[17]\tvalidation_0-auc:0.999898\tvalidation_1-auc:0.861676\n",
            "[18]\tvalidation_0-auc:0.999951\tvalidation_1-auc:0.862013\n",
            "[19]\tvalidation_0-auc:0.999957\tvalidation_1-auc:0.863142\n",
            "[20]\tvalidation_0-auc:0.999972\tvalidation_1-auc:0.864753\n",
            "[21]\tvalidation_0-auc:0.999977\tvalidation_1-auc:0.865755\n",
            "[22]\tvalidation_0-auc:0.999982\tvalidation_1-auc:0.867037\n",
            "[23]\tvalidation_0-auc:0.999987\tvalidation_1-auc:0.867783\n",
            "[24]\tvalidation_0-auc:0.99999\tvalidation_1-auc:0.868345\n",
            "[25]\tvalidation_0-auc:0.999996\tvalidation_1-auc:0.869661\n",
            "[26]\tvalidation_0-auc:0.999997\tvalidation_1-auc:0.869538\n",
            "[27]\tvalidation_0-auc:0.999996\tvalidation_1-auc:0.869979\n",
            "[28]\tvalidation_0-auc:0.999998\tvalidation_1-auc:0.870645\n",
            "[29]\tvalidation_0-auc:0.999998\tvalidation_1-auc:0.871452\n",
            "[30]\tvalidation_0-auc:0.999999\tvalidation_1-auc:0.871647\n",
            "[31]\tvalidation_0-auc:0.999999\tvalidation_1-auc:0.871659\n",
            "[32]\tvalidation_0-auc:1\tvalidation_1-auc:0.871927\n",
            "[33]\tvalidation_0-auc:1\tvalidation_1-auc:0.87226\n",
            "[34]\tvalidation_0-auc:1\tvalidation_1-auc:0.871932\n",
            "[35]\tvalidation_0-auc:1\tvalidation_1-auc:0.872154\n",
            "[36]\tvalidation_0-auc:1\tvalidation_1-auc:0.872759\n",
            "[37]\tvalidation_0-auc:1\tvalidation_1-auc:0.873426\n",
            "[38]\tvalidation_0-auc:1\tvalidation_1-auc:0.873498\n",
            "[39]\tvalidation_0-auc:1\tvalidation_1-auc:0.873967\n",
            "[[691 158]\n",
            " [198 682]]\n",
            "              precision    recall  f1-score   support\n",
            "\n",
            "           0       0.78      0.81      0.80       849\n",
            "           1       0.81      0.78      0.79       880\n",
            "\n",
            "    accuracy                           0.79      1729\n",
            "   macro avg       0.79      0.79      0.79      1729\n",
            "weighted avg       0.79      0.79      0.79      1729\n",
            "\n"
          ],
          "name": "stdout"
        }
      ]
    },
    {
      "cell_type": "code",
      "metadata": {
        "colab_type": "code",
        "id": "imrVQB9LxpwL",
        "colab": {
          "base_uri": "https://localhost:8080/",
          "height": 72
        },
        "outputId": "868c7b58-661c-4328-c0bc-b7343277d595"
      },
      "source": [
        "labels = np.arange(2)\n",
        "target_names = ['1:1', '>1:1']\n",
        "clf_report = classification_report(y_test, y_pred,\n",
        "                                   labels=labels,\n",
        "                                   target_names=target_names,\n",
        "                                   output_dict=True)"
      ],
      "execution_count": 172,
      "outputs": [
        {
          "output_type": "stream",
          "text": [
            "/usr/local/lib/python3.6/dist-packages/numpy/lib/arraysetops.py:565: FutureWarning: elementwise comparison failed; returning scalar instead, but in the future will perform elementwise comparison\n",
            "  mask &= (ar1 != a)\n"
          ],
          "name": "stderr"
        }
      ]
    },
    {
      "cell_type": "code",
      "metadata": {
        "colab_type": "code",
        "id": "F8CavGQdxpwU",
        "colab": {
          "base_uri": "https://localhost:8080/",
          "height": 534
        },
        "outputId": "87076c9a-c885-4fdb-b6b1-824911ca4018"
      },
      "source": [
        "import seaborn as sns\n",
        "sns.set(font_scale=1.4)\n",
        "\n",
        "res=sns.heatmap(pd.DataFrame(clf_report).iloc[:-1, :].T, annot=True, cmap='viridis',  linewidths=1, vmin=0.7, vmax=1 )\n",
        "res.set_yticklabels(res.get_ymajorticklabels(), fontsize = 18, rotation=45)\n",
        "plt.title('Classification report on the validation set')\n",
        "res.set_xticklabels(res.get_xmajorticklabels(), fontsize = 18)\n",
        "plt.savefig('/content/drive/My Drive/cocrystal_design-master/figures_SI/seaborn_clf_report2.svg',  rasterized=True,  bbox_inches=\"tight\", dpi=600)"
      ],
      "execution_count": 174,
      "outputs": [
        {
          "output_type": "display_data",
          "data": {
            "image/png": "[encoded data removed]",
            "text/plain": [
              "<Figure size 576x576 with 2 Axes>"
            ]
          },
          "metadata": {
            "tags": []
          }
        }
      ]
    },
    {
      "cell_type": "code",
      "metadata": {
        "id": "MX5929Ze95J0",
        "colab_type": "code",
        "colab": {
          "base_uri": "https://localhost:8080/",
          "height": 808
        },
        "outputId": "c88de706-dc2c-4bdb-ef88-90b3353f1986"
      },
      "source": [
        "clf = XGBClassifier(learning_rate=0.2, n_estimators=30, max_depth=10,\n",
        "                        min_child_weight=1, gamma=0.01, subsample=0.9, colsample_bytree=0.53,\n",
        "                        objective='binary:logistic', nthread=2, scale_pos_weight=1, seed=0) \n",
        "eval_set = [(X_train, y_train), (X_test, y_test)]\n",
        "\n",
        "clf.fit(X_train, y_train, early_stopping_rounds=15, eval_metric=\"auc\", eval_set=eval_set, verbose=True)\n",
        "y_pred = clf.predict(X_test)                     \n",
        "\n",
        "\n",
        "print(confusion_matrix(y_test, y_pred))\n",
        "print(classification_report(y_test, y_pred))"
      ],
      "execution_count": 180,
      "outputs": [
        {
          "output_type": "stream",
          "text": [
            "[0]\tvalidation_0-auc:0.925763\tvalidation_1-auc:0.818761\n",
            "Multiple eval metrics have been passed: 'validation_1-auc' will be used for early stopping.\n",
            "\n",
            "Will train until validation_1-auc hasn't improved in 15 rounds.\n",
            "[1]\tvalidation_0-auc:0.972836\tvalidation_1-auc:0.873807\n",
            "[2]\tvalidation_0-auc:0.989917\tvalidation_1-auc:0.903984\n",
            "[3]\tvalidation_0-auc:0.993541\tvalidation_1-auc:0.923453\n",
            "[4]\tvalidation_0-auc:0.996191\tvalidation_1-auc:0.934123\n",
            "[5]\tvalidation_0-auc:0.997902\tvalidation_1-auc:0.943302\n",
            "[6]\tvalidation_0-auc:0.998982\tvalidation_1-auc:0.954545\n",
            "[7]\tvalidation_0-auc:0.999269\tvalidation_1-auc:0.961542\n",
            "[8]\tvalidation_0-auc:0.999319\tvalidation_1-auc:0.964849\n",
            "[9]\tvalidation_0-auc:0.999364\tvalidation_1-auc:0.966956\n",
            "[10]\tvalidation_0-auc:0.999418\tvalidation_1-auc:0.970519\n",
            "[11]\tvalidation_0-auc:0.999639\tvalidation_1-auc:0.973291\n",
            "[12]\tvalidation_0-auc:0.999833\tvalidation_1-auc:0.974281\n",
            "[13]\tvalidation_0-auc:0.999932\tvalidation_1-auc:0.976052\n",
            "[14]\tvalidation_0-auc:0.999976\tvalidation_1-auc:0.977297\n",
            "[15]\tvalidation_0-auc:0.999975\tvalidation_1-auc:0.977326\n",
            "[16]\tvalidation_0-auc:0.999993\tvalidation_1-auc:0.978835\n",
            "[17]\tvalidation_0-auc:0.999997\tvalidation_1-auc:0.979424\n",
            "[18]\tvalidation_0-auc:1\tvalidation_1-auc:0.980239\n",
            "[19]\tvalidation_0-auc:1\tvalidation_1-auc:0.980747\n",
            "[20]\tvalidation_0-auc:1\tvalidation_1-auc:0.981204\n",
            "[21]\tvalidation_0-auc:1\tvalidation_1-auc:0.981197\n",
            "[22]\tvalidation_0-auc:1\tvalidation_1-auc:0.981133\n",
            "[23]\tvalidation_0-auc:1\tvalidation_1-auc:0.982023\n",
            "[24]\tvalidation_0-auc:1\tvalidation_1-auc:0.98232\n",
            "[25]\tvalidation_0-auc:1\tvalidation_1-auc:0.982394\n",
            "[26]\tvalidation_0-auc:1\tvalidation_1-auc:0.982778\n",
            "[27]\tvalidation_0-auc:1\tvalidation_1-auc:0.982233\n",
            "[28]\tvalidation_0-auc:1\tvalidation_1-auc:0.982336\n",
            "[29]\tvalidation_0-auc:1\tvalidation_1-auc:0.982743\n",
            "[[791  58]\n",
            " [ 48 832]]\n",
            "              precision    recall  f1-score   support\n",
            "\n",
            "           0       0.94      0.93      0.94       849\n",
            "           1       0.93      0.95      0.94       880\n",
            "\n",
            "    accuracy                           0.94      1729\n",
            "   macro avg       0.94      0.94      0.94      1729\n",
            "weighted avg       0.94      0.94      0.94      1729\n",
            "\n"
          ],
          "name": "stdout"
        }
      ]
    },
    {
      "cell_type": "code",
      "metadata": {
        "id": "DfV2ExTAThgj",
        "colab_type": "code",
        "colab": {
          "base_uri": "https://localhost:8080/",
          "height": 72
        },
        "outputId": "7a8133c1-e0a8-4439-d420-d96b0258b06c"
      },
      "source": [
        "labels = np.arange(2)\n",
        "target_names = ['1:1', '>1:1']\n",
        "clf_report = classification_report(y_test, y_pred,\n",
        "                                   labels=labels,\n",
        "                                   target_names=target_names,\n",
        "                                   output_dict=True)"
      ],
      "execution_count": 181,
      "outputs": [
        {
          "output_type": "stream",
          "text": [
            "/usr/local/lib/python3.6/dist-packages/numpy/lib/arraysetops.py:565: FutureWarning: elementwise comparison failed; returning scalar instead, but in the future will perform elementwise comparison\n",
            "  mask &= (ar1 != a)\n"
          ],
          "name": "stderr"
        }
      ]
    },
    {
      "cell_type": "code",
      "metadata": {
        "id": "7sNxqjbUTUM4",
        "colab_type": "code",
        "colab": {
          "base_uri": "https://localhost:8080/",
          "height": 552
        },
        "outputId": "fc54f9b4-261e-4506-c1af-d8741ac8c78a"
      },
      "source": [
        "import seaborn as sns\n",
        "sns.set(font_scale=1.4)\n",
        "\n",
        "res=sns.heatmap(pd.DataFrame(clf_report).iloc[:-1, :].T, annot=True, cmap='viridis',  linewidths=1, vmin=0.7, vmax=1 )\n",
        "res.set_yticklabels(res.get_ymajorticklabels(), fontsize = 18, rotation=45)\n",
        "plt.title('Classification report on the validation set')\n",
        "res.set_xticklabels(res.get_xmajorticklabels(), fontsize = 18)\n",
        "#plt.savefig('/content/drive/My Drive/cocrystal_design-master/figures_SI/seaborn_clf_report1.svg',  rasterized=True,  bbox_inches=\"tight\", dpi=600)"
      ],
      "execution_count": 183,
      "outputs": [
        {
          "output_type": "execute_result",
          "data": {
            "text/plain": [
              "[Text(0.5, 0, 'precision'), Text(1.5, 0, 'recall'), Text(2.5, 0, 'f1-score')]"
            ]
          },
          "metadata": {
            "tags": []
          },
          "execution_count": 183
        },
        {
          "output_type": "display_data",
          "data": {
            "image/png": "[encoded data removed]",
            "text/plain": [
              "<Figure size 576x576 with 2 Axes>"
            ]
          },
          "metadata": {
            "tags": []
          }
        }
      ]
    },
    {
      "cell_type": "code",
      "metadata": {
        "id": "KINFjMBgUG_I",
        "colab_type": "code",
        "colab": {
          "base_uri": "https://localhost:8080/",
          "height": 400
        },
        "outputId": "4fe68f6d-1649-487c-c2af-a24b1aa18601"
      },
      "source": [
        "# Plot the most important features \n",
        "import seaborn as sns\n",
        "import numpy as np\n",
        "import seaborn as sns\n",
        "import matplotlib\n",
        "from matplotlib.patches import Rectangle\n",
        "from matplotlib import rcParams\n",
        "import matplotlib.font_manager\n",
        "from matplotlib.colors import ListedColormap, LinearSegmentedColormap\n",
        "import matplotlib.pyplot as plt\n",
        "from matplotlib import rc\n",
        "plt.rcParams[\"font.weight\"] = \"normal\"\n",
        "plt.rcParams[\"axes.labelweight\"] = \"normal\"\n",
        "plt.rcParams['font.family'] = 'sans-serif'\n",
        "plt.rcParams[\"font.sans-serif\"] = \"Helvetica\"\n",
        "plt.rcParams[\"axes.labelsize\"] = \"xx-large\"\n",
        "plt.rcParams[\"axes.labelweight\"]= \"normal\"\n",
        "plt.rcParams[\"xtick.labelsize\"] = \"xx-large\"\n",
        "plt.rcParams[\"ytick.labelsize\"] = \"xx-large\"\n",
        "\n",
        "results = clf.evals_result()\n",
        "x_axis = range(0, 40)\n",
        "fig, ax = plt.subplots(figsize=(8,6))\n",
        "ax.spines['bottom'].set_color('black')\n",
        "ax.spines['top'].set_color('black')\n",
        "ax.spines['right'].set_color('black')\n",
        "ax.spines['left'].set_color('black')\n",
        "ax.axis('on')\n",
        "ax.grid(False)\n",
        "ax.set_facecolor('xkcd:white')\n",
        "ax.set_xlim(-0.8, 30)\n",
        "ax.set_ylim(70, 102)\n",
        "ax.tick_params(axis = 'both', which='both', width=2)\n",
        "ax.tick_params(axis = 'both', which='major', length=14)\n",
        "ax.tick_params(axis = 'both', which='minor', length=8, color='black')\n",
        "ax.tick_params(axis = 'both', which='both' , bottom=True, top=True, left=True, right=True, direction='in')\n",
        "major_ticks_x = np.arange(0, 31, 10)\n",
        "minor_ticks_x = np.arange(0,31, 5)\n",
        "major_ticks_y = np.arange(70, 101, 10)\n",
        "minor_ticks_y = np.arange(70, 101, 5)\n",
        "ax.set_xticks(major_ticks_x)\n",
        "ax.set_xticks(minor_ticks_x, minor=True)\n",
        "ax.set_yticks(major_ticks_y)\n",
        "ax.set_yticks(minor_ticks_y, minor=True)\n",
        "\n",
        "ax.plot(x_axis, np.array(results['validation_0']['auc'])*100, label='Train', linewidth=2, marker='o')\n",
        "ax.plot(x_axis, np.array(results['validation_1']['auc'])*100, label='Test', linewidth=2, marker='o')\n",
        "ax.yaxis.get_major_ticks()[0].draw = lambda *args:None\n",
        "ax.text(-0.066, -0.015, '70', transform=ax.transAxes, fontsize= 17)\n",
        "\n",
        "plt.xticks(fontsize=18)\n",
        "plt.yticks(fontsize=18)\n",
        "\n",
        "plt.legend(fontsize=18, loc=\"lower right\", framealpha=0)\n",
        "\n",
        "#ax.set_ylim([0.74, 1.01])\n",
        "plt.ylabel('AUC%', fontsize=18)\n",
        "plt.xlabel('Epochs', fontsize=18 )\n",
        "#plt.title('XGBoost AUC (Bidirectional Representation)', fontsiz~e=18)\n",
        "plt.savefig('/content/drive/My Drive/cocrystal_design-master/figures_SI/AUC_no_Setr.svg')"
      ],
      "execution_count": 176,
      "outputs": [
        {
          "output_type": "display_data",
          "data": {
            "image/png": "[encoded data removed]",
            "text/plain": [
              "<Figure size 576x432 with 1 Axes>"
            ]
          },
          "metadata": {
            "tags": []
          }
        }
      ]
    },
    {
      "cell_type": "code",
      "metadata": {
        "id": "t7gynTGGZPLF",
        "colab_type": "code",
        "colab": {}
      },
      "source": [
        "# Import the scalled unlabelled dataset \n",
        "uf_final = pd.read_pickle('/content/drive/My Drive/cocrystal_design-master/data/unlabelled_all_new.pkl')"
      ],
      "execution_count": 95,
      "outputs": []
    },
    {
      "cell_type": "code",
      "metadata": {
        "id": "ryibpatC2mgk",
        "colab_type": "code",
        "colab": {}
      },
      "source": [
        "# Import the scored assigned from the deep model to select the top quantile of the scored unlabelled data\n",
        "deep_scores= pd.read_csv('/content/drive/My Drive/cocrystal_design-master/data/deep_scores_60_epochs.csv')\n",
        "deep_unlab = deep_scores.iloc[1722:, :]\n",
        "top=pd.concat([uf_final.Identifier ,pd.DataFrame(deep_unlab.score.values, columns=['score'])], axis=1)\n",
        "\n",
        "c=pd.DataFrame(top.describe().loc['75%'].astype(float)).iloc[0].values[0]\n",
        "proba_ = top.sort_values(by = ['score'], ascending=True)\n",
        "b = top[top['score'] > c]\n",
        "pred1 = uf_final[uf_final.Identifier.isin(b.Identifier)]"
      ],
      "execution_count": 130,
      "outputs": []
    },
    {
      "cell_type": "code",
      "metadata": {
        "id": "ry1WRiGfB2xL",
        "colab_type": "code",
        "colab": {}
      },
      "source": [
        "# Use the network to score the predicted inliers\n",
        "\n",
        "net = deep_SVDD.net.to(device)\n",
        "pred1=pred1.fillna(0)\n",
        "X_pred= pred1.iloc[:,1:].values\n",
        "X_pred = torch.FloatTensor(X_pred).to(device)\n",
        "y_pred = net(X_pred)\n",
        "X_pred= y_pred.cpu().detach().numpy()\n",
        "k=clf.predict(X_pred)"
      ],
      "execution_count": 146,
      "outputs": []
    },
    {
      "cell_type": "code",
      "metadata": {
        "id": "j_QPXZ4u4GoM",
        "colab_type": "code",
        "colab": {
          "base_uri": "https://localhost:8080/",
          "height": 103
        },
        "outputId": "fbcb1169-24b3-4247-9104-c14f3e79470a"
      },
      "source": [
        "# Predict the ratios of the experimental co-crystals\n",
        "pred_ratios = pd.concat([pd.DataFrame(pred1.Identifier.values, columns=['Identifier']), pd.DataFrame(k, columns=['ratio'])], axis=1)\n",
        "experimental = ['comb1799', 'comb1817']\n",
        "exp_pred_ratios = pred_ratios[pred_ratios.Identifier.isin(experimental)]\n",
        "smiles = []\n",
        "for i in exp_pred_ratios.Identifier.values:\n",
        "  smiles.append('.'.join(dict[i]))\n",
        "exp_pred_ratios = pd.concat([pd.DataFrame(exp_pred_ratios.values, columns=exp_pred_ratios.columns.values), pd.DataFrame(smiles, columns=['smiles'])], axis=1)\n",
        "exp_pred_ratios"
      ],
      "execution_count": 147,
      "outputs": [
        {
          "output_type": "execute_result",
          "data": {
            "text/html": [
              "<div>\n",
              "<style scoped>\n",
              "    .dataframe tbody tr th:only-of-type {\n",
              "        vertical-align: middle;\n",
              "    }\n",
              "\n",
              "    .dataframe tbody tr th {\n",
              "        vertical-align: top;\n",
              "    }\n",
              "\n",
              "    .dataframe thead th {\n",
              "        text-align: right;\n",
              "    }\n",
              "</style>\n",
              "<table border=\"1\" class=\"dataframe\">\n",
              "  <thead>\n",
              "    <tr style=\"text-align: right;\">\n",
              "      <th></th>\n",
              "      <th>Identifier</th>\n",
              "      <th>ratio</th>\n",
              "      <th>smiles</th>\n",
              "    </tr>\n",
              "  </thead>\n",
              "  <tbody>\n",
              "    <tr>\n",
              "      <th>0</th>\n",
              "      <td>comb1799</td>\n",
              "      <td>1</td>\n",
              "      <td>c1cc2ccc3cccc4ccc(c1)c2c34.O=C1Oc2ccccc2c3ccccc13</td>\n",
              "    </tr>\n",
              "    <tr>\n",
              "      <th>1</th>\n",
              "      <td>comb1817</td>\n",
              "      <td>0</td>\n",
              "      <td>c1cc2ccc3cccc4ccc(c1)c2c34.N#Cc1c2ccccc2c(C#N)...</td>\n",
              "    </tr>\n",
              "  </tbody>\n",
              "</table>\n",
              "</div>"
            ],
            "text/plain": [
              "  Identifier ratio                                             smiles\n",
              "0   comb1799     1  c1cc2ccc3cccc4ccc(c1)c2c34.O=C1Oc2ccccc2c3ccccc13\n",
              "1   comb1817     0  c1cc2ccc3cccc4ccc(c1)c2c34.N#Cc1c2ccccc2c(C#N)..."
            ]
          },
          "metadata": {
            "tags": []
          },
          "execution_count": 147
        }
      ]
    },
    {
      "cell_type": "code",
      "metadata": {
        "id": "UlZMBYCHcwWT",
        "colab_type": "code",
        "colab": {
          "base_uri": "https://localhost:8080/",
          "height": 466
        },
        "outputId": "b58ac5b9-621c-411e-a828-4664762fa1eb"
      },
      "source": [
        "# Count the molecular ratios of the co-crystals in the training set and visualization in a pie chart\n",
        "\n",
        "import matplotlib.pyplot as plotter\n",
        "from pylab import rcParams\n",
        "rcParams['figure.figsize'] = 8, 8\n",
        "\n",
        "unlab_ratios = pd.DataFrame(k, columns=['ratio'])\n",
        "counts = unlab_ratios.ratio.value_counts()\n",
        "\n",
        "# The slice names of a population distribution pie chart\n",
        "pieLabels = '1:1', ' > 1:1'\n",
        "\n",
        "# Population data\n",
        "populationShare  = populationShare  = (counts[0], counts[1])\n",
        "figureObject, axesObject = plotter.subplots()\n",
        "\n",
        "# Draw the pie chart\n",
        "axesObject.pie(populationShare, labels=pieLabels,  autopct='%1.2f', startangle=45,  textprops={'size': 'x-large'}, radius=0.5)\n",
        "axesObject.axis('equal')\n",
        "plotter.figure\n",
        "#plotter.legend()\n",
        "#plotter.savefig('pie-chart_un.svg')\n",
        "plotter.show()"
      ],
      "execution_count": 149,
      "outputs": [
        {
          "output_type": "display_data",
          "data": {
            "image/png": "[encoded data removed]",
            "text/plain": [
              "<Figure size 576x576 with 1 Axes>"
            ]
          },
          "metadata": {
            "tags": []
          }
        }
      ]
    }
  ]
}